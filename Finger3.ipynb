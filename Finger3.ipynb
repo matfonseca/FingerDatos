{
 "cells": [
  {
   "cell_type": "code",
   "execution_count": 2,
   "metadata": {},
   "outputs": [],
   "source": [
    "import pyspark\n",
    "\n",
    "try: \n",
    "    type(sc)\n",
    "except NameError:\n",
    "    sc = pyspark.SparkContext('local[*]')"
   ]
  },
  {
   "cell_type": "code",
   "execution_count": 3,
   "metadata": {},
   "outputs": [],
   "source": [
    "spark = pyspark.sql.SparkSession.builder \\\n",
    "    .appName(\"Python Spark SQL basic example\") \\\n",
    "    .getOrCreate()"
   ]
  },
  {
   "cell_type": "code",
   "execution_count": 4,
   "metadata": {},
   "outputs": [],
   "source": [
    "df_flight = spark.read.load(\"flight-delays/flights.csv\",format=\"csv\", sep=\",\", inferSchema=\"true\", header=\"true\")"
   ]
  },
  {
   "cell_type": "code",
   "execution_count": 5,
   "metadata": {},
   "outputs": [],
   "source": [
    "df_airlines = spark.read.load(\"flight-delays/airlines.csv\",format=\"csv\", sep=\",\", inferSchema=\"true\", header=\"true\")"
   ]
  },
  {
   "cell_type": "code",
   "execution_count": 6,
   "metadata": {},
   "outputs": [],
   "source": [
    "df_airports = spark.read.load(\"flight-delays/airports.csv\",format=\"csv\", sep=\",\", inferSchema=\"true\", header=\"true\")"
   ]
  },
  {
   "cell_type": "code",
   "execution_count": 7,
   "metadata": {},
   "outputs": [
    {
     "data": {
      "text/plain": [
       "['YEAR',\n",
       " 'MONTH',\n",
       " 'DAY',\n",
       " 'DAY_OF_WEEK',\n",
       " 'AIRLINE',\n",
       " 'FLIGHT_NUMBER',\n",
       " 'TAIL_NUMBER',\n",
       " 'ORIGIN_AIRPORT',\n",
       " 'DESTINATION_AIRPORT',\n",
       " 'SCHEDULED_DEPARTURE',\n",
       " 'DEPARTURE_TIME',\n",
       " 'DEPARTURE_DELAY',\n",
       " 'TAXI_OUT',\n",
       " 'WHEELS_OFF',\n",
       " 'SCHEDULED_TIME',\n",
       " 'ELAPSED_TIME',\n",
       " 'AIR_TIME',\n",
       " 'DISTANCE',\n",
       " 'WHEELS_ON',\n",
       " 'TAXI_IN',\n",
       " 'SCHEDULED_ARRIVAL',\n",
       " 'ARRIVAL_TIME',\n",
       " 'ARRIVAL_DELAY',\n",
       " 'DIVERTED',\n",
       " 'CANCELLED',\n",
       " 'CANCELLATION_REASON',\n",
       " 'AIR_SYSTEM_DELAY',\n",
       " 'SECURITY_DELAY',\n",
       " 'AIRLINE_DELAY',\n",
       " 'LATE_AIRCRAFT_DELAY',\n",
       " 'WEATHER_DELAY']"
      ]
     },
     "execution_count": 7,
     "metadata": {},
     "output_type": "execute_result"
    }
   ],
   "source": [
    "df_flight.columns"
   ]
  },
  {
   "cell_type": "code",
   "execution_count": 8,
   "metadata": {},
   "outputs": [
    {
     "data": {
      "text/plain": [
       "['IATA_CODE', 'AIRLINE']"
      ]
     },
     "execution_count": 8,
     "metadata": {},
     "output_type": "execute_result"
    }
   ],
   "source": [
    "df_airlines.columns"
   ]
  },
  {
   "cell_type": "code",
   "execution_count": 10,
   "metadata": {},
   "outputs": [
    {
     "data": {
      "text/plain": [
       "['IATA_CODE', 'AIRPORT', 'CITY', 'STATE', 'COUNTRY', 'LATITUDE', 'LONGITUDE']"
      ]
     },
     "execution_count": 10,
     "metadata": {},
     "output_type": "execute_result"
    }
   ],
   "source": [
    "df_airports.columns"
   ]
  },
  {
   "cell_type": "code",
   "execution_count": 7,
   "metadata": {},
   "outputs": [],
   "source": [
    "df_airlines.createOrReplaceTempView(\"airlines\")\n",
    "df_flight.createOrReplaceTempView(\"flights\")\n",
    "df_airports.createOrReplaceTempView(\"airports\")"
   ]
  },
  {
   "cell_type": "markdown",
   "metadata": {},
   "source": [
    "TOP 5 DE AEROPUERTOS CON MAS CANCELACIONES"
   ]
  },
  {
   "cell_type": "code",
   "execution_count": 9,
   "metadata": {},
   "outputs": [
    {
     "name": "stdout",
     "output_type": "stream",
     "text": [
      "+--------------------+---------------+\n",
      "|             AIRPORT|total_cancelled|\n",
      "+--------------------+---------------+\n",
      "|Chicago O'Hare In...|           8548|\n",
      "|Dallas/Fort Worth...|           6254|\n",
      "|LaGuardia Airport...|           4531|\n",
      "|Newark Liberty In...|           3110|\n",
      "|Gen. Edward Lawre...|           2654|\n",
      "+--------------------+---------------+\n",
      "\n"
     ]
    }
   ],
   "source": [
    "query = 'SELECT airports.AIRPORT,COUNT(*)\\\n",
    "                as total_cancelled\\\n",
    "                FROM flights INNER JOIN airports\\\n",
    "                ON airports.IATA_CODE = flights.ORIGIN_AIRPORT\\\n",
    "                WHERE CANCELLED = 1\\\n",
    "                GROUP BY  airports.AIRPORT\\\n",
    "                ORDER BY total_cancelled DESC\\\n",
    "                LIMIT 5'\n",
    "                       \n",
    "df_sql = spark.sql(query);\n",
    "\n",
    "spark.sql(query).show()"
   ]
  },
  {
   "cell_type": "markdown",
   "metadata": {},
   "source": [
    "NOMBRE DE AEROLINEAS DE ATLANTA A LOS ANGELES Y CANTIDAD DE VUELOS"
   ]
  },
  {
   "cell_type": "code",
   "execution_count": 30,
   "metadata": {},
   "outputs": [
    {
     "name": "stdout",
     "output_type": "stream",
     "text": [
      "+--------------------+-------------+\n",
      "|             AIRLINE|total_flights|\n",
      "+--------------------+-------------+\n",
      "|Delta Air Lines Inc.|         3624|\n",
      "|Southwest Airline...|          962|\n",
      "|American Airlines...|          765|\n",
      "|Frontier Airlines...|          215|\n",
      "|    Spirit Air Lines|          103|\n",
      "+--------------------+-------------+\n",
      "\n"
     ]
    }
   ],
   "source": [
    "query1 = 'SELECT airlines.AIRLINE, COUNT(flights.FLIGHT_NUMBER) as total_flights\\\n",
    "                        FROM flights INNER JOIN airlines\\\n",
    "                        ON flights.AIRLINE = airlines.IATA_CODE\\\n",
    "                        WHERE ORIGIN_AIRPORT = \"ATL\" and DESTINATION_AIRPORT = \"LAX\"\\\n",
    "                        GROUP BY airlines.AIRLINE\\\n",
    "                        ORDER BY total_flights DESC'\n",
    "\n",
    "df_sql = spark.sql(query1);\n",
    "\n",
    "spark.sql(query1).show()"
   ]
  },
  {
   "cell_type": "markdown",
   "metadata": {},
   "source": [
    "ANALISIS DEL QUERY PLAN DEL PUNTO ANTERIOR"
   ]
  },
  {
   "cell_type": "code",
   "execution_count": 31,
   "metadata": {},
   "outputs": [
    {
     "name": "stdout",
     "output_type": "stream",
     "text": [
      "== Parsed Logical Plan ==\n",
      "'Sort ['total_flights DESC NULLS LAST], true\n",
      "+- 'Aggregate ['airlines.AIRLINE], ['airlines.AIRLINE, 'COUNT('flights.FLIGHT_NUMBER) AS total_flights#273]\n",
      "   +- 'Filter (('ORIGIN_AIRPORT = ATL) && ('DESTINATION_AIRPORT = LAX))\n",
      "      +- 'Join Inner, ('flights.AIRLINE = 'airlines.IATA_CODE)\n",
      "         :- 'UnresolvedRelation `flights`\n",
      "         +- 'UnresolvedRelation `airlines`\n",
      "\n",
      "== Analyzed Logical Plan ==\n",
      "AIRLINE: string, total_flights: bigint\n",
      "Sort [total_flights#273L DESC NULLS LAST], true\n",
      "+- Aggregate [AIRLINE#83], [AIRLINE#83, count(FLIGHT_NUMBER#15) AS total_flights#273L]\n",
      "   +- Filter ((ORIGIN_AIRPORT#17 = ATL) && (DESTINATION_AIRPORT#18 = LAX))\n",
      "      +- Join Inner, (AIRLINE#14 = IATA_CODE#82)\n",
      "         :- SubqueryAlias flights\n",
      "         :  +- Relation[YEAR#10,MONTH#11,DAY#12,DAY_OF_WEEK#13,AIRLINE#14,FLIGHT_NUMBER#15,TAIL_NUMBER#16,ORIGIN_AIRPORT#17,DESTINATION_AIRPORT#18,SCHEDULED_DEPARTURE#19,DEPARTURE_TIME#20,DEPARTURE_DELAY#21,TAXI_OUT#22,WHEELS_OFF#23,SCHEDULED_TIME#24,ELAPSED_TIME#25,AIR_TIME#26,DISTANCE#27,WHEELS_ON#28,TAXI_IN#29,SCHEDULED_ARRIVAL#30,ARRIVAL_TIME#31,ARRIVAL_DELAY#32,DIVERTED#33,... 7 more fields] csv\n",
      "         +- SubqueryAlias airlines\n",
      "            +- Relation[IATA_CODE#82,AIRLINE#83] csv\n",
      "\n",
      "== Optimized Logical Plan ==\n",
      "Sort [total_flights#273L DESC NULLS LAST], true\n",
      "+- Aggregate [AIRLINE#83], [AIRLINE#83, count(FLIGHT_NUMBER#15) AS total_flights#273L]\n",
      "   +- Project [FLIGHT_NUMBER#15, AIRLINE#83]\n",
      "      +- Join Inner, (AIRLINE#14 = IATA_CODE#82)\n",
      "         :- Project [AIRLINE#14, FLIGHT_NUMBER#15]\n",
      "         :  +- Filter ((((isnotnull(ORIGIN_AIRPORT#17) && isnotnull(DESTINATION_AIRPORT#18)) && (ORIGIN_AIRPORT#17 = ATL)) && (DESTINATION_AIRPORT#18 = LAX)) && isnotnull(AIRLINE#14))\n",
      "         :     +- Relation[YEAR#10,MONTH#11,DAY#12,DAY_OF_WEEK#13,AIRLINE#14,FLIGHT_NUMBER#15,TAIL_NUMBER#16,ORIGIN_AIRPORT#17,DESTINATION_AIRPORT#18,SCHEDULED_DEPARTURE#19,DEPARTURE_TIME#20,DEPARTURE_DELAY#21,TAXI_OUT#22,WHEELS_OFF#23,SCHEDULED_TIME#24,ELAPSED_TIME#25,AIR_TIME#26,DISTANCE#27,WHEELS_ON#28,TAXI_IN#29,SCHEDULED_ARRIVAL#30,ARRIVAL_TIME#31,ARRIVAL_DELAY#32,DIVERTED#33,... 7 more fields] csv\n",
      "         +- Filter isnotnull(IATA_CODE#82)\n",
      "            +- Relation[IATA_CODE#82,AIRLINE#83] csv\n",
      "\n",
      "== Physical Plan ==\n",
      "*(4) Sort [total_flights#273L DESC NULLS LAST], true, 0\n",
      "+- Exchange rangepartitioning(total_flights#273L DESC NULLS LAST, 200)\n",
      "   +- *(3) HashAggregate(keys=[AIRLINE#83], functions=[count(FLIGHT_NUMBER#15)], output=[AIRLINE#83, total_flights#273L])\n",
      "      +- Exchange hashpartitioning(AIRLINE#83, 200)\n",
      "         +- *(2) HashAggregate(keys=[AIRLINE#83], functions=[partial_count(FLIGHT_NUMBER#15)], output=[AIRLINE#83, count#279L])\n",
      "            +- *(2) Project [FLIGHT_NUMBER#15, AIRLINE#83]\n",
      "               +- *(2) BroadcastHashJoin [AIRLINE#14], [IATA_CODE#82], Inner, BuildRight\n",
      "                  :- *(2) Project [AIRLINE#14, FLIGHT_NUMBER#15]\n",
      "                  :  +- *(2) Filter ((((isnotnull(ORIGIN_AIRPORT#17) && isnotnull(DESTINATION_AIRPORT#18)) && (ORIGIN_AIRPORT#17 = ATL)) && (DESTINATION_AIRPORT#18 = LAX)) && isnotnull(AIRLINE#14))\n",
      "                  :     +- *(2) FileScan csv [AIRLINE#14,FLIGHT_NUMBER#15,ORIGIN_AIRPORT#17,DESTINATION_AIRPORT#18] Batched: false, Format: CSV, Location: InMemoryFileIndex[file:/Users/matiasmanuelfonseca/Desktop/flight-delays/flights.csv], PartitionFilters: [], PushedFilters: [IsNotNull(ORIGIN_AIRPORT), IsNotNull(DESTINATION_AIRPORT), EqualTo(ORIGIN_AIRPORT,ATL), EqualTo(..., ReadSchema: struct<AIRLINE:string,FLIGHT_NUMBER:int,ORIGIN_AIRPORT:string,DESTINATION_AIRPORT:string>\n",
      "                  +- BroadcastExchange HashedRelationBroadcastMode(List(input[0, string, true]))\n",
      "                     +- *(1) Project [IATA_CODE#82, AIRLINE#83]\n",
      "                        +- *(1) Filter isnotnull(IATA_CODE#82)\n",
      "                           +- *(1) FileScan csv [IATA_CODE#82,AIRLINE#83] Batched: false, Format: CSV, Location: InMemoryFileIndex[file:/Users/matiasmanuelfonseca/Desktop/flight-delays/airlines.csv], PartitionFilters: [], PushedFilters: [IsNotNull(IATA_CODE)], ReadSchema: struct<IATA_CODE:string,AIRLINE:string>\n"
     ]
    }
   ],
   "source": [
    "spark.sql(query1).explain(True)"
   ]
  },
  {
   "cell_type": "markdown",
   "metadata": {},
   "source": [
    "Se produce un filter pushdown en la etapa optimized logical plan.\n",
    "En la etapa Physical plan se realiza un BroadcastHashJoin."
   ]
  }
 ],
 "metadata": {
  "kernelspec": {
   "display_name": "Python 3",
   "language": "python",
   "name": "python3"
  },
  "language_info": {
   "codemirror_mode": {
    "name": "ipython",
    "version": 3
   },
   "file_extension": ".py",
   "mimetype": "text/x-python",
   "name": "python",
   "nbconvert_exporter": "python",
   "pygments_lexer": "ipython3",
   "version": "3.6.0"
  }
 },
 "nbformat": 4,
 "nbformat_minor": 2
}
